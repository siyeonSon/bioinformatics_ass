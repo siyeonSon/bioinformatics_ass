{
  "nbformat": 4,
  "nbformat_minor": 0,
  "metadata": {
    "colab": {
      "provenance": []
    },
    "kernelspec": {
      "name": "python3",
      "display_name": "Python 3"
    },
    "language_info": {
      "name": "python"
    }
  },
  "cells": [
    {
      "cell_type": "code",
      "execution_count": 1,
      "metadata": {
        "colab": {
          "base_uri": "https://localhost:8080/"
        },
        "id": "WYjOb46L_Kll",
        "outputId": "9d49b085-90f2-4f7c-d0c3-723905f33c23"
      },
      "outputs": [
        {
          "output_type": "stream",
          "name": "stdout",
          "text": [
            "Collecting bio\n",
            "  Downloading bio-1.6.0-py3-none-any.whl (279 kB)\n",
            "\u001b[2K     \u001b[90m━━━━━━━━━━━━━━━━━━━━━━━━━━━━━━━━━━━━━━━━\u001b[0m \u001b[32m279.4/279.4 kB\u001b[0m \u001b[31m5.5 MB/s\u001b[0m eta \u001b[36m0:00:00\u001b[0m\n",
            "\u001b[?25hCollecting biopython>=1.80 (from bio)\n",
            "  Downloading biopython-1.81-cp310-cp310-manylinux_2_17_x86_64.manylinux2014_x86_64.whl (3.1 MB)\n",
            "\u001b[2K     \u001b[90m━━━━━━━━━━━━━━━━━━━━━━━━━━━━━━━━━━━━━━━━\u001b[0m \u001b[32m3.1/3.1 MB\u001b[0m \u001b[31m43.9 MB/s\u001b[0m eta \u001b[36m0:00:00\u001b[0m\n",
            "\u001b[?25hRequirement already satisfied: requests in /usr/local/lib/python3.10/dist-packages (from bio) (2.31.0)\n",
            "Requirement already satisfied: tqdm in /usr/local/lib/python3.10/dist-packages (from bio) (4.66.1)\n",
            "Collecting mygene (from bio)\n",
            "  Downloading mygene-3.2.2-py2.py3-none-any.whl (5.4 kB)\n",
            "Requirement already satisfied: pandas in /usr/local/lib/python3.10/dist-packages (from bio) (1.5.3)\n",
            "Requirement already satisfied: pooch in /usr/local/lib/python3.10/dist-packages (from bio) (1.8.0)\n",
            "Collecting gprofiler-official (from bio)\n",
            "  Downloading gprofiler_official-1.0.0-py3-none-any.whl (9.3 kB)\n",
            "Requirement already satisfied: numpy in /usr/local/lib/python3.10/dist-packages (from biopython>=1.80->bio) (1.23.5)\n",
            "Collecting biothings-client>=0.2.6 (from mygene->bio)\n",
            "  Downloading biothings_client-0.3.1-py2.py3-none-any.whl (29 kB)\n",
            "Requirement already satisfied: python-dateutil>=2.8.1 in /usr/local/lib/python3.10/dist-packages (from pandas->bio) (2.8.2)\n",
            "Requirement already satisfied: pytz>=2020.1 in /usr/local/lib/python3.10/dist-packages (from pandas->bio) (2023.3.post1)\n",
            "Requirement already satisfied: platformdirs>=2.5.0 in /usr/local/lib/python3.10/dist-packages (from pooch->bio) (3.11.0)\n",
            "Requirement already satisfied: packaging>=20.0 in /usr/local/lib/python3.10/dist-packages (from pooch->bio) (23.2)\n",
            "Requirement already satisfied: charset-normalizer<4,>=2 in /usr/local/lib/python3.10/dist-packages (from requests->bio) (3.3.2)\n",
            "Requirement already satisfied: idna<4,>=2.5 in /usr/local/lib/python3.10/dist-packages (from requests->bio) (3.4)\n",
            "Requirement already satisfied: urllib3<3,>=1.21.1 in /usr/local/lib/python3.10/dist-packages (from requests->bio) (2.0.7)\n",
            "Requirement already satisfied: certifi>=2017.4.17 in /usr/local/lib/python3.10/dist-packages (from requests->bio) (2023.7.22)\n",
            "Requirement already satisfied: six>=1.5 in /usr/local/lib/python3.10/dist-packages (from python-dateutil>=2.8.1->pandas->bio) (1.16.0)\n",
            "Installing collected packages: biopython, gprofiler-official, biothings-client, mygene, bio\n",
            "Successfully installed bio-1.6.0 biopython-1.81 biothings-client-0.3.1 gprofiler-official-1.0.0 mygene-3.2.2\n"
          ]
        }
      ],
      "source": [
        "!pip install bio"
      ]
    },
    {
      "cell_type": "code",
      "source": [
        "%%writefile COVID-19.ncbi_list.200301.txt\n",
        "GenBank\tRefSeq\tGene Region\tCollection Date\tLocality\n",
        "MN908947\tNC_045512\tcomplete\tDec-19\tChina\n",
        "LC522972\t\tcomplete\tJan-20\tJapan\n",
        "LC522973\t\tcomplete\tJan-20\tJapan\n",
        "LC522974\t\tcomplete\tJan-20\tJapan\n",
        "LC522975\t\tcomplete\tJan-20\tJapan\n",
        "LR757995\t\tcomplete\t05-Jan-20\tChina: Wuhan\n",
        "LR757996\t\tcomplete\t01-Jan-20\tChina: Wuhan\n",
        "LR757998\t\tcomplete\t26-Dec-19\tChina: Wuhan\n",
        "MN938384\t\tcomplete\t10-Jan-20\tChina: Shenzhen\n",
        "MN975262\t\tcomplete\t11-Jan-20\tChina\n",
        "MN985325\t\tcomplete\t19-Jan-20\tUSA: WA\n",
        "MN988668\t\tcomplete\t02-Jan-20\tChina\n",
        "MN988669\t\tcomplete\t02-Jan-20\tChina\n",
        "MN988713\t\tcomplete\t21-Jan-20\tUSA: IL\n",
        "MN994467\t\tcomplete\t23-Jan-20\tUSA: CA\n",
        "MN994468\t\tcomplete\t22-Jan-20\tUSA: CA\n",
        "MN996527\t\tcomplete\t30-Dec-19\tChina: Wuhan\n",
        "MN996528\t\tcomplete\t30-Dec-19\tChina: Wuhan\n",
        "MN996529\t\tcomplete\t30-Dec-19\tChina: Wuhan\n",
        "MN996530\t\tcomplete\t30-Dec-19\tChina: Wuhan\n",
        "MN996531\t\tcomplete\t30-Dec-19\tChina: Wuhan\n",
        "MN997409\t\tcomplete\t22-Jan-20\tUSA: AZ\n",
        "MT007544\t\tcomplete\t25-Jan-20\tAustralia: Victoria\n",
        "MT019529\t\tcomplete\t23-Dec-19\tChina: Wuhan\n",
        "MT019530\t\tcomplete\t30-Dec-19\tChina: Wuhan\n",
        "MT019531\t\tcomplete\t30-Dec-19\tChina: Wuhan\n",
        "MT019532\t\tcomplete\t30-Dec-19\tChina: Wuhan\n",
        "MT019533\t\tcomplete\t01-Jan-20\tChina: Wuhan\n",
        "MT020880\t\tcomplete\t25-Jan-20\tUSA: WA\n",
        "MT020881\t\tcomplete\t25-Jan-20\tUSA: WA\n",
        "MT027062\t\tcomplete\t29-Jan-20\tUSA: CA\n",
        "MT027063\t\tcomplete\t29-Jan-20\tUSA: CA\n",
        "MT027064\t\tcomplete\t29-Jan-20\tUSA: CA\n",
        "MT039873\t\tcomplete\t20-Jan-20\tChina: Hangzhou\n",
        "MT039887\t\tcomplete\t31-Jan-20\tUSA: WI\n",
        "MT039888\t\tcomplete\t29-Jan-20\tUSA: MA\n",
        "MT039890\t\tcomplete\tJan-20\tSouth Korea\n",
        "MT044257\t\tcomplete\t28-Jan-20\tUSA: IL\n",
        "MT044258\t\tcomplete\t27-Jan-20\tUSA: CA\n",
        "MT049951\t\tcomplete\t17-Jan-20\tChina: Yunnan\n",
        "MT066175\t\tcomplete\t31-Jan-20\tTaiwan\n",
        "MT066176\t\tcomplete\t05-Feb-20\tTaiwan\n",
        "MT072688\t\tcomplete\t13-Jan-20\tNepal\n",
        "MT093571\t\tcomplete\t07-Feb-20\tSweden\n",
        "MT093631\t\tcomplete\t08-Jan-20\tChina\n",
        "MT106052\t\tcomplete\t06-Feb-20\tUSA: CA\n",
        "MT106053\t\tcomplete\t10-Feb-20\tUSA: CA\n",
        "MT106054\t\tcomplete\t11-Feb-20\tUSA: TX\n",
        "MT118835\t\tcomplete\t23-Feb-20\tUSA: CA\n",
        "LR757997\t\tcomplete, gapped\t31-Dec-19\tChina: Wuhan\n",
        "MT020781\t\tcomplete, gapped\t29-Jan-20\tFinland\n",
        "MT008022\t\tM\tJan-20\tItaly: Rome\n",
        "MT008023\t\tM\tJan-20\tItaly: Rome\n",
        "LC523807\t\tN\t06-Jan-20\tPhilippines\n",
        "LC523808\t\tN\t26-Jan-20\tPhilippines\n",
        "LC523809\t\tN\t23-Jan-20\tPhilippines\n",
        "MT081059\t\tN\t22-Jan-20\tChina: HuaShang\n",
        "MT081060\t\tN\t23-Jan-20\tChina: HuaShang\n",
        "MT081061\t\tN\t23-Jan-20\tChina: HuaShang\n",
        "MT081062\t\tN\t25-Jan-20\tChina: HuaShang\n",
        "MT081063\t\tN\t26-Jan-20\tChina: HuaShang\n",
        "MT081064\t\tN\t28-Jan-20\tChina: HuaShang\n",
        "MT081065\t\tN\t30-Jan-20\tChina: HuaShang\n",
        "MT081066\t\tN\t30-Jan-20\tChina: HuaShang\n",
        "MT081067\t\tN\t31-Jan-20\tChina: HuaShang\n",
        "MT081068\t\tN\t06-Feb-20\tChina: HuaShang\n",
        "MT072667\t\tnsp1-nsp2\t03-Feb-20\tBelgium\n",
        "MT111895\t\tNSP3\tFeb-20\tAustralia: QLD\n",
        "MT111896\t\tORF3a/E\tFeb-20\tAustralia: QLD\n",
        "LC522350\t\tRdRP\t26-Jan-20\tPhilippines\n",
        "MN938385\t\tRdRP\tJan-20\tChina: Shenzhen\n",
        "MN938386\t\tRdRP\tJan-20\tChina: Shenzhen\n",
        "MN970003\t\tRdRP\t08-Jan-20\tThailand\n",
        "MN970004\t\tRdRP\t13-Jan-20\tThailand\n",
        "MN975263\t\tRdRP\tJan-20\tChina\n",
        "MN975264\t\tRdRP\tJan-20\tChina\n",
        "MN975265\t\tRdRP\tJan-20\tChina\n",
        "MT042773\t\tRdRp\tJan-20\tChina: Wuhan\n",
        "MT042774\t\tRdRp\tJan-20\tChina: Wuhan\n",
        "MT042775\t\tRdRp\tJan-20\tChina: Wuhan\n",
        "MT042776\t\tRdRp\tJan-20\tChina: Wuhan\n",
        "MT042777\t\tRdRp\tJan-20\tChina: Wuhan\n",
        "MT042778\t\tRdRp\tJan-20\tChina: Wuhan\n",
        "MT050414\t\tRdRP\tJan-20\tAustralia: QLD\n",
        "MT050415\t\tRdRP\tJan-20\tAustralia: QLD\n",
        "MT050416\t\tRdRP\tJan-20\tAustralia: QLD\n",
        "MT050417\t\tRdRP\tJan-20\tAustralia: QLD\n",
        "MT066157\t\tRdRp\t24-Jan-20\tMalaysia\n",
        "MT066158\t\tRdRp\t24-Jan-20\tMalaysia\n",
        "MT066159\t\tRdRp\t24-Jan-20\tMalaysia\n",
        "MT072668\t\tRdRp\t03-Feb-20\tBelgium\n",
        "MN938387\t\tS\tJan-20\tChina: Shenzhen\n",
        "MN938388\t\tS\tJan-20\tChina: Shenzhen\n",
        "MN938389\t\tS\tJan-20\tChina: Shenzhen\n",
        "MN938390\t\tS\tJan-20\tChina: Shenzhen\n",
        "MN975266\t\tS\tJan-20\tChina\n",
        "MN975267\t\tS\tJan-20\tChina\n",
        "MN975268\t\tS\tJan-20\tChina"
      ],
      "metadata": {
        "colab": {
          "base_uri": "https://localhost:8080/"
        },
        "id": "Zo8kyvWP_siA",
        "outputId": "0389c1b2-2eab-4c84-b204-ebdac2ce86cb"
      },
      "execution_count": 3,
      "outputs": [
        {
          "output_type": "stream",
          "name": "stdout",
          "text": [
            "Writing COVID-19.ncbi_list.200301.txt\n"
          ]
        }
      ]
    },
    {
      "cell_type": "code",
      "source": [
        "from Bio import Entrez\n",
        "from Bio import SeqIO\n",
        "import pandas as pd\n",
        "\n",
        "def fetch_record(genbank_id):\n",
        "    Entrez.email = \"your_email@email.com\"\n",
        "    handle = Entrez.efetch(db=\"nucleotide\", id=genbank_id, \\\n",
        "                           rettype=\"gb\", retmode=\"xml\")\n",
        "    records = Entrez.read(handle)\n",
        "    return records\n",
        "\n",
        "def write_sequence(genbank_id, records):\n",
        "    print(\"## processing: \"+genbank_id)\n",
        "    record_id = records[0][\"GBSeq_accession-version\"]\n",
        "    record_desc = records[0][\"GBSeq_definition\"]\n",
        "    record_seq = records[0][\"GBSeq_sequence\"]\n",
        "    with open(genbank_id+\".fasta\",'w') as fw:\n",
        "        fw.write(\">\"+record_id+\" \"+record_desc+\"\\n\")\n",
        "        fw.write(record_seq)\n",
        "\n",
        "def read_table(file):\n",
        "    df = pd.read_csv(file, sep=\"\\t\")\n",
        "    return df\n",
        "\n",
        "file = \"COVID-19.ncbi_list.200301.txt\"\n",
        "df = read_table(file)\n",
        "complete_df = df[df[\"Gene Region\"]==\"complete\"]\n",
        "genbank_id_list = complete_df[\"GenBank\"]\n",
        "\n",
        "for genbank_id in genbank_id_list:\n",
        "    records = fetch_record(genbank_id)\n",
        "    write_sequence(genbank_id, records)"
      ],
      "metadata": {
        "colab": {
          "base_uri": "https://localhost:8080/"
        },
        "id": "M7Q7S4hQ_Li2",
        "outputId": "e9ca1639-5881-4695-806a-523863b4725e"
      },
      "execution_count": 4,
      "outputs": [
        {
          "output_type": "stream",
          "name": "stdout",
          "text": [
            "## processing: MN908947\n",
            "## processing: LC522972\n",
            "## processing: LC522973\n",
            "## processing: LC522974\n",
            "## processing: LC522975\n",
            "## processing: LR757995\n",
            "## processing: LR757996\n",
            "## processing: LR757998\n",
            "## processing: MN938384\n",
            "## processing: MN975262\n",
            "## processing: MN985325\n",
            "## processing: MN988668\n",
            "## processing: MN988669\n",
            "## processing: MN988713\n",
            "## processing: MN994467\n",
            "## processing: MN994468\n",
            "## processing: MN996527\n",
            "## processing: MN996528\n",
            "## processing: MN996529\n",
            "## processing: MN996530\n",
            "## processing: MN996531\n",
            "## processing: MN997409\n",
            "## processing: MT007544\n",
            "## processing: MT019529\n",
            "## processing: MT019530\n",
            "## processing: MT019531\n",
            "## processing: MT019532\n",
            "## processing: MT019533\n",
            "## processing: MT020880\n",
            "## processing: MT020881\n",
            "## processing: MT027062\n",
            "## processing: MT027063\n",
            "## processing: MT027064\n",
            "## processing: MT039873\n",
            "## processing: MT039887\n",
            "## processing: MT039888\n",
            "## processing: MT039890\n",
            "## processing: MT044257\n",
            "## processing: MT044258\n",
            "## processing: MT049951\n",
            "## processing: MT066175\n",
            "## processing: MT066176\n",
            "## processing: MT072688\n",
            "## processing: MT093571\n",
            "## processing: MT093631\n",
            "## processing: MT106052\n",
            "## processing: MT106053\n",
            "## processing: MT106054\n",
            "## processing: MT118835\n"
          ]
        }
      ]
    },
    {
      "cell_type": "code",
      "source": [
        "!awk 'FNR==1 && NR!=1 {print \"\"}1' *.fasta > covid.all.fasta"
      ],
      "metadata": {
        "id": "gCDYYvDpC8WE"
      },
      "execution_count": 31,
      "outputs": []
    },
    {
      "cell_type": "code",
      "source": [
        "!head -15 covid.all.fasta > covid.crop.fasta"
      ],
      "metadata": {
        "id": "nFR0GQllFqgt"
      },
      "execution_count": 35,
      "outputs": []
    },
    {
      "cell_type": "code",
      "source": [
        "!wget https://drive5.com/muscle/downloads3.8.31/muscle3.8.31_i86linux64.tar.gz\n",
        "!tar -zxvf muscle3.8.31_i86linux64.tar.gz"
      ],
      "metadata": {
        "colab": {
          "base_uri": "https://localhost:8080/"
        },
        "id": "Km0VzQFUBhpR",
        "outputId": "d9da941a-1f3c-4a25-bf54-42640c69ad29"
      },
      "execution_count": 7,
      "outputs": [
        {
          "output_type": "stream",
          "name": "stdout",
          "text": [
            "--2023-11-15 12:49:32--  https://drive5.com/muscle/downloads3.8.31/muscle3.8.31_i86linux64.tar.gz\n",
            "Resolving drive5.com (drive5.com)... 199.195.116.69\n",
            "Connecting to drive5.com (drive5.com)|199.195.116.69|:443... connected.\n",
            "HTTP request sent, awaiting response... 200 OK\n",
            "Length: 487906 (476K) [application/x-gzip]\n",
            "Saving to: ‘muscle3.8.31_i86linux64.tar.gz’\n",
            "\n",
            "muscle3.8.31_i86lin 100%[===================>] 476.47K  --.-KB/s    in 0.08s   \n",
            "\n",
            "2023-11-15 12:49:33 (5.54 MB/s) - ‘muscle3.8.31_i86linux64.tar.gz’ saved [487906/487906]\n",
            "\n"
          ]
        }
      ]
    },
    {
      "cell_type": "code",
      "source": [
        "from Bio.Align.Applications import MuscleCommandline\n",
        "\n",
        "muscle = \"./muscle3.8.31_i86linux64\"\n",
        "\n",
        "cmd_line = MuscleCommandline(muscle, \\\n",
        "                             input=\"covid.crop.fasta\", \\\n",
        "                             out=\"covid.crop.aln\", \\\n",
        "                            clw=\" \")\n",
        "\n",
        "print(cmd_line)\n",
        "stdout, stderr = cmd_line()"
      ],
      "metadata": {
        "colab": {
          "base_uri": "https://localhost:8080/"
        },
        "id": "rKBJGcexCUP-",
        "outputId": "17f7461e-2cf1-4f9d-f165-f088ef4b2e63"
      },
      "execution_count": 37,
      "outputs": [
        {
          "output_type": "stream",
          "name": "stdout",
          "text": [
            "./muscle3.8.31_i86linux64 -in covid.crop.fasta -out covid.crop.aln -clw\n"
          ]
        }
      ]
    },
    {
      "cell_type": "code",
      "source": [
        "seq_dict = dict()\n",
        "\n",
        "with open(\"covid.crop.aln\",'r') as fr:\n",
        "    for line in fr:\n",
        "        if line.startswith(\"MUSCLE\"):\n",
        "            continue\n",
        "        if \"*\" in line:\n",
        "            continue\n",
        "        l = line.strip().split()\n",
        "        if l:\n",
        "            genbank_id = l[0]\n",
        "            seq = l[1]\n",
        "            if genbank_id not in seq_dict:\n",
        "                seq_dict[genbank_id] = seq\n",
        "            else:\n",
        "                seq_dict[genbank_id] += seq\n",
        "\n",
        "with open(\"covid.aln.fasta\",'w') as fw:\n",
        "    for k,v in seq_dict.items():\n",
        "        fw.write(\">\"+k+\"\\n\")\n",
        "        fw.write(v+\"\\n\")"
      ],
      "metadata": {
        "id": "GI6LTj5TFRPz"
      },
      "execution_count": 40,
      "outputs": []
    },
    {
      "cell_type": "markdown",
      "source": [
        "https://weblogo.threeplusone.com/create.cgi"
      ],
      "metadata": {
        "id": "wdw8HbTjJwkw"
      }
    },
    {
      "cell_type": "code",
      "source": [
        "!wget http://www.clustal.org/download/current/clustalw-2.1-linux-x86_64-libcppstatic.tar.gz\n",
        "!tar -zxvf clustalw-2.1-linux-x86_64-libcppstatic.tar.gz"
      ],
      "metadata": {
        "colab": {
          "base_uri": "https://localhost:8080/"
        },
        "id": "SpAxDcpjJZKD",
        "outputId": "192e215e-e93b-4312-af56-92863482b6fd"
      },
      "execution_count": 41,
      "outputs": [
        {
          "output_type": "stream",
          "name": "stdout",
          "text": [
            "--2023-11-15 13:32:23--  http://www.clustal.org/download/current/clustalw-2.1-linux-x86_64-libcppstatic.tar.gz\n",
            "Resolving www.clustal.org (www.clustal.org)... 137.43.93.206\n",
            "Connecting to www.clustal.org (www.clustal.org)|137.43.93.206|:80... connected.\n",
            "HTTP request sent, awaiting response... 200 OK\n",
            "Length: 2468744 (2.4M) [application/x-gzip]\n",
            "Saving to: ‘clustalw-2.1-linux-x86_64-libcppstatic.tar.gz’\n",
            "\n",
            "clustalw-2.1-linux- 100%[===================>]   2.35M  2.52MB/s    in 0.9s    \n",
            "\n",
            "2023-11-15 13:32:25 (2.52 MB/s) - ‘clustalw-2.1-linux-x86_64-libcppstatic.tar.gz’ saved [2468744/2468744]\n",
            "\n",
            "clustalw-2.1-linux-x86_64-libcppstatic/\n",
            "clustalw-2.1-linux-x86_64-libcppstatic/clustalw_help\n",
            "clustalw-2.1-linux-x86_64-libcppstatic/clustalw2\n"
          ]
        }
      ]
    },
    {
      "cell_type": "code",
      "source": [
        "!./clustalw-2.1-linux-x86_64-libcppstatic/clustalw2 -infile=covid.all.fasta -tree -outputtree=phylip -clustering=Neighbour-joining"
      ],
      "metadata": {
        "colab": {
          "base_uri": "https://localhost:8080/"
        },
        "id": "NfxzcyL6Ls2o",
        "outputId": "6a53a1d7-43d8-47f0-b15f-a475ff1fe98a"
      },
      "execution_count": 49,
      "outputs": [
        {
          "output_type": "stream",
          "name": "stdout",
          "text": [
            "\n",
            "\n",
            "\n",
            " CLUSTAL 2.1 Multiple Sequence Alignments\n",
            "\n",
            "\n",
            "Sequence format is Pearson\n",
            "Sequence 1: LC522972.1 29878 bp\n",
            "Sequence 2: LC522973.1 29878 bp\n",
            "Sequence 3: LC522974.1 29878 bp\n",
            "Sequence 4: LC522975.1 29878 bp\n",
            "Sequence 5: LR757995.1 29872 bp\n",
            "Sequence 6: LR757996.1 29868 bp\n",
            "Sequence 7: LR757998.1 29866 bp\n",
            "Sequence 8: MN908947.3 29903 bp\n",
            "Sequence 9: MN938384.1 29838 bp\n",
            "Sequence 10: MN975262.1 29891 bp\n",
            "Sequence 11: MN985325.1 29882 bp\n",
            "Sequence 12: MN988668.1 29881 bp\n",
            "Sequence 13: MN988669.1 29881 bp\n",
            "Sequence 14: MN988713.1 29882 bp\n",
            "Sequence 15: MN994467.1 29882 bp\n",
            "Sequence 16: MN994468.1 29883 bp\n",
            "Sequence 17: MN996527.1 29825 bp\n",
            "Sequence 18: MN996528.1 29891 bp\n",
            "Sequence 19: MN996529.1 29852 bp\n",
            "Sequence 20: MN996530.1 29854 bp\n",
            "Sequence 21: MN996531.1 29857 bp\n",
            "Sequence 22: MN997409.1 29882 bp\n",
            "Sequence 23: MT007544.1 29893 bp\n",
            "Sequence 24: MT019529.1 29899 bp\n",
            "Sequence 25: MT019530.1 29889 bp\n",
            "Sequence 26: MT019531.1 29899 bp\n",
            "Sequence 27: MT019532.1 29890 bp\n",
            "Sequence 28: MT019533.1 29883 bp\n",
            "Sequence 29: MT020880.1 29882 bp\n",
            "Sequence 30: MT020881.1 29882 bp\n",
            "Sequence 31: MT027062.1 29882 bp\n",
            "Sequence 32: MT027063.1 29882 bp\n",
            "Sequence 33: MT027064.1 29882 bp\n",
            "Sequence 34: MT039873.1 29833 bp\n",
            "Sequence 35: MT039887.1 29879 bp\n",
            "Sequence 36: MT039888.1 29882 bp\n",
            "Sequence 37: MT039890.1 29903 bp\n",
            "Sequence 38: MT044257.1 29882 bp\n",
            "Sequence 39: MT044258.1 29858 bp\n",
            "Sequence 40: MT049951.1 29903 bp\n",
            "Sequence 41: MT066175.1 29870 bp\n",
            "Sequence 42: MT066176.1 29870 bp\n",
            "Sequence 43: MT072688.1 29811 bp\n",
            "Sequence 44: MT093571.1 29886 bp\n",
            "Sequence 45: MT093631.2 29860 bp\n",
            "Sequence 46: MT106052.1 29882 bp\n",
            "Sequence 47: MT106053.1 29882 bp\n",
            "Sequence 48: MT106054.1 29882 bp\n",
            "Sequence 49: MT118835.1 29882 bp\n",
            "\n",
            "Phylogenetic tree file created:   [covid.all.ph]\n",
            "\n"
          ]
        }
      ]
    },
    {
      "cell_type": "code",
      "source": [
        "from Bio import Phylo\n",
        "\n",
        "tree = Phylo.read(\"covid.all.ph\",\"newick\")\n",
        "Phylo.draw(tree)"
      ],
      "metadata": {
        "colab": {
          "base_uri": "https://localhost:8080/",
          "height": 450
        },
        "id": "3TcYCJI5MAgy",
        "outputId": "1258d01b-8187-4889-f060-7199ecc8d137"
      },
      "execution_count": 50,
      "outputs": [
        {
          "output_type": "display_data",
          "data": {
            "text/plain": [
              "<Figure size 640x480 with 1 Axes>"
            ],
            "image/png": "[encoded data removed]"
          },
          "metadata": {}
        }
      ]
    },
    {
      "cell_type": "code",
      "source": [],
      "metadata": {
        "id": "KyJiDe-FMNBj"
      },
      "execution_count": null,
      "outputs": []
    }
  ]
}